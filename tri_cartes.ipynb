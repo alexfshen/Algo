{
 "cells": [
  {
   "cell_type": "code",
   "execution_count": 17,
   "id": "d98304c1-8d86-4ab2-9ecb-b28db256466a",
   "metadata": {},
   "outputs": [
    {
     "data": {
      "text/plain": [
       "[('coeur', '2'),\n",
       " ('coeur', '4'),\n",
       " ('coeur', 'valet'),\n",
       " ('coeur', '9'),\n",
       " ('coeur', 'as'),\n",
       " ('coeur', '10'),\n",
       " ('coeur', '5'),\n",
       " ('coeur', '8'),\n",
       " ('coeur', 'dame'),\n",
       " ('coeur', '6'),\n",
       " ('coeur', '7'),\n",
       " ('coeur', '3'),\n",
       " ('coeur', 'roi')]"
      ]
     },
     "execution_count": 17,
     "metadata": {},
     "output_type": "execute_result"
    }
   ],
   "source": [
    "import random\n",
    "\n",
    "suit_unique = 'coeur'\n",
    "values = ['2', '3', '4', '5', '6', '7', '8', '9', '10', 'valet', 'dame', 'roi', 'as']\n",
    "deck = [(suit_unique, value) for value in values]\n",
    "random.shuffle(deck)\n",
    "\n",
    "deck"
   ]
  },
  {
   "cell_type": "code",
   "execution_count": null,
   "id": "3df60024-ea0c-48d3-ba9d-0ff9790f2ad0",
   "metadata": {},
   "outputs": [],
   "source": [
    "def tri_valeur(liste) :\n",
    "    \n",
    "    valeurs = {\n",
    "            'as' : 0,\n",
    "            '2' : 1,\n",
    "            '3' : 2,\n",
    "            '4' : 3,\n",
    "            '5' : 4,\n",
    "            '6' : 5,\n",
    "            '7' : 6,\n",
    "            '8' : 7,\n",
    "            '9' : 8,\n",
    "            '10' : 9,\n",
    "            'valet' : 10,\n",
    "            'dame' : 11,\n",
    "            'roi' : 12,\n",
    "            'noir' : 13,\n",
    "            'rouge' : 14\n",
    "    }\n",
    "    n = 0\n",
    "    \n",
    "        for i in range(0, (len(liste) - 1)) :\n",
    "            while n != len(liste) :\n",
    "                if valeurs[liste[i][1]] > valeurs[liste[i + 1][1]] : \n",
    "                    liste[i], liste[i + 1] = liste[i + 1], liste[i]\n",
    "                n += 1\n",
    "        \n",
    "    return liste\n",
    "\n",
    "tri_valeur(deck)"
   ]
  },
  {
   "cell_type": "code",
   "execution_count": null,
   "id": "6ce6da37-b672-46d7-b8d3-15b7934cab4d",
   "metadata": {},
   "outputs": [],
   "source": []
  },
  {
   "cell_type": "code",
   "execution_count": null,
   "id": "288e06d1-8cbe-4ac7-8291-34b24f819b02",
   "metadata": {},
   "outputs": [],
   "source": []
  },
  {
   "cell_type": "code",
   "execution_count": null,
   "id": "86afe38c-05f6-4303-bb04-28ab0e35f74d",
   "metadata": {},
   "outputs": [],
   "source": []
  }
 ],
 "metadata": {
  "kernelspec": {
   "display_name": "Python 3 (ipykernel)",
   "language": "python",
   "name": "python3"
  },
  "language_info": {
   "codemirror_mode": {
    "name": "ipython",
    "version": 3
   },
   "file_extension": ".py",
   "mimetype": "text/x-python",
   "name": "python",
   "nbconvert_exporter": "python",
   "pygments_lexer": "ipython3",
   "version": "3.11.7"
  }
 },
 "nbformat": 4,
 "nbformat_minor": 5
}

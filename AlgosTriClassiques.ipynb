{
 "cells": [
  {
   "cell_type": "markdown",
   "metadata": {},
   "source": [
    "# 0 Mise en place des fonctions de travail "
   ]
  },
  {
   "cell_type": "code",
   "execution_count": 1,
   "metadata": {},
   "outputs": [],
   "source": [
    "import random\n",
    "\n",
    "def generate_random_array(debug=False, N= 21 ):\n",
    "    \"\"\"Renvoie un tableau contenant toutes les valeurs entières de 0 (inclus)\n",
    "    à N (exclus) rangées dans un ordre aléatoire\n",
    "\n",
    "    Args:\n",
    "        debug (boolean): quand debug est vrai, la fonction renvoie toujours le\n",
    "                         même tableau afin de simplifier le débogage de vos\n",
    "                         algorithmes de tri\n",
    "        N (int): la taille du tableau à renvoyer\n",
    "\n",
    "    Returns:\n",
    "        list[int]: un tableau d'entiers, de taille N, non ordonné\n",
    "    \"\"\"\n",
    "\n",
    "    if debug:\n",
    "        return [3, 9, 7, 1, 6, 2, 8, 4, 5, 0]\n",
    "\n",
    "    array = list(range(0, N))\n",
    "    random.shuffle(array)\n",
    "\n",
    "    return array"
   ]
  },
  {
   "cell_type": "code",
   "execution_count": 2,
   "metadata": {
    "jupyter": {
     "source_hidden": true
    }
   },
   "outputs": [
    {
     "name": "stdout",
     "output_type": "stream",
     "text": [
      "[6, 3, 14, 11, 4, 20, 8, 10, 7, 2, 16, 12, 13, 15, 5, 0, 17, 18, 19, 1, 9]\n",
      "[3, 9, 7, 1, 6, 2, 8, 4, 5, 0]\n",
      "[18, 3, 14, 4, 28, 19, 25, 1, 29, 5, 9, 16, 2, 0, 30, 8, 24, 12, 17, 10, 22, 11, 23, 26, 20, 7, 6, 13, 27, 15, 21]\n"
     ]
    }
   ],
   "source": [
    "# Exemple d'utilisation de la fonction precedente\n",
    "\n",
    "print(generate_random_array()) # Retourne un tableau avec des nombres naturels allant de 0 a 20\n",
    "print(generate_random_array(True)) # Retourne le tableau [3, 9, 7, 1, 6, 2, 8, 4, 5, 0]\n",
    "print(generate_random_array(N=31)) # Des nombres naturels allant de 0 a 30"
   ]
  },
  {
   "cell_type": "code",
   "execution_count": 3,
   "metadata": {},
   "outputs": [],
   "source": [
    "# astuce: peut se réaliser en une opération\n",
    "def swap(tab, i, j):\n",
    "    \"\"\"Échange la place des éléments aux indices i et j du tableau\"\"\"\n",
    "    tab[i], tab[j] = tab[j], tab[i]\n",
    "    \n",
    "    return tab"
   ]
  },
  {
   "cell_type": "markdown",
   "metadata": {},
   "source": [
    "# 1 Les tris classiques "
   ]
  },
  {
   "attachments": {},
   "cell_type": "markdown",
   "metadata": {},
   "source": [
    "**ATTENTION** Le pseudo-code n'est pas du code. C'est une façon de représenter l'algorithme comme si c'était du code. Il n'y a pas de norme, il n'y a pas de format particulier. Il peut être écrit dans la langue que vous voulez et se rapprocher de la syntaxe du code de votre choix.  \n",
    "Ici, nous sommes sous Python, qui est un code facile à lire et à écrire à condition de faire attention aux indentations. Essayons d'écrire un pseudo code proche d'une syntaxe python sans trop en faire (ce n'est pas du code !!)"
   ]
  },
  {
   "cell_type": "markdown",
   "metadata": {},
   "source": [
    "## 1.1 Tri à bulles"
   ]
  },
  {
   "attachments": {},
   "cell_type": "markdown",
   "metadata": {},
   "source": [
    "**Un pseudocode possible** *(source : Wikipedia, réécrit sous format python)*\n",
    "\n",
    "```\n",
    "procedure tri_à_bulles(Tableau T):\n",
    "   pour i allant de (taille de T)-1 à 1:\n",
    "       pour j allant de 0 à i-1:\n",
    "           si T[j+1] < T[j] alors:\n",
    "               échanger(T, j+1, j)\n",
    "```"
   ]
  },
  {
   "cell_type": "code",
   "execution_count": 4,
   "metadata": {
    "jupyter": {
     "source_hidden": true
    }
   },
   "outputs": [],
   "source": [
    "def bubble(A):\n",
    "    \"\"\"Trie le tableau en déplaçant les plus grosses valeurs vers la fin du\n",
    "    tableau, un peu comme des bulles dans l'eau qui remonteraient à la\n",
    "    surface\"\"\"\n",
    "\n",
    "    raise NotImplementedError"
   ]
  },
  {
   "cell_type": "code",
   "execution_count": 5,
   "metadata": {},
   "outputs": [],
   "source": [
    "def bubble(array) :\n",
    "\n",
    "    for i in range(len(array) - 1, 0, -1) :\n",
    "        for j in range(0, i) :\n",
    "            if array[j + 1] < array[j] :\n",
    "                swap(array, j, j + 1)\n",
    "\n",
    "    return array\n",
    "                \n",
    "#len(A) = 0\n",
    "#Complexité : O(n2) \n",
    "    "
   ]
  },
  {
   "cell_type": "code",
   "execution_count": 6,
   "metadata": {},
   "outputs": [
    {
     "data": {
      "text/plain": [
       "[0, 1, 2, 3, 4, 5, 6, 7, 8, 9, 10, 11, 12, 13, 14, 15, 16, 17, 18, 19, 20]"
      ]
     },
     "execution_count": 6,
     "metadata": {},
     "output_type": "execute_result"
    }
   ],
   "source": [
    "bubble(generate_random_array())"
   ]
  },
  {
   "cell_type": "code",
   "execution_count": 7,
   "metadata": {},
   "outputs": [
    {
     "name": "stdout",
     "output_type": "stream",
     "text": [
      " "
     ]
    },
    {
     "data": {
      "text/plain": [
       "         163 function calls in 0.000 seconds\n",
       "\n",
       "   Ordered by: internal time\n",
       "\n",
       "   ncalls  tottime  percall  cumtime  percall filename:lineno(function)\n",
       "        1    0.000    0.000    0.000    0.000 2894779019.py:1(bubble)\n",
       "        1    0.000    0.000    0.000    0.000 {built-in method builtins.exec}\n",
       "       20    0.000    0.000    0.000    0.000 random.py:235(_randbelow_with_getrandbits)\n",
       "        1    0.000    0.000    0.000    0.000 random.py:376(shuffle)\n",
       "       89    0.000    0.000    0.000    0.000 2334177488.py:2(swap)\n",
       "        1    0.000    0.000    0.000    0.000 2490127614.py:3(generate_random_array)\n",
       "        1    0.000    0.000    0.000    0.000 <string>:1(<module>)\n",
       "       26    0.000    0.000    0.000    0.000 {method 'getrandbits' of '_random.Random' objects}\n",
       "       20    0.000    0.000    0.000    0.000 {method 'bit_length' of 'int' objects}\n",
       "        2    0.000    0.000    0.000    0.000 {built-in method builtins.len}\n",
       "        1    0.000    0.000    0.000    0.000 {method 'disable' of '_lsprof.Profiler' objects}"
      ]
     },
     "metadata": {},
     "output_type": "display_data"
    }
   ],
   "source": [
    "%prun bubble(generate_random_array())"
   ]
  },
  {
   "cell_type": "markdown",
   "metadata": {},
   "source": [
    "## 1.2 Insertion"
   ]
  },
  {
   "attachments": {},
   "cell_type": "markdown",
   "metadata": {},
   "source": [
    "**Un pseudocode possible** *(source : Wikipedia réécrit sous format )*\n",
    "\n",
    "```\n",
    "procédure tri_insertion(tableau T, entier n):\n",
    "\n",
    "  pour i de 1 à n - 1:\n",
    "        # mémoriser T[i] dans x\n",
    "        x = T[i]                            \n",
    "\n",
    "        j = i                               \n",
    "        tant que j > 0 et T[j - 1] > x:\n",
    "                 T[j] = T[j - 1]\n",
    "                 j = j - 1\n",
    "\n",
    "        # placer x dans le \"trou\" laissé par le décalage\n",
    "        T[j] = x \n",
    "```"
   ]
  },
  {
   "cell_type": "code",
   "execution_count": 8,
   "metadata": {},
   "outputs": [],
   "source": [
    "def insertion(A):\n",
    "    \"\"\"Trie le tableau en plaçant l'élément courant à la bonne place dans\n",
    "    le sous-tableau déjà trié\"\"\"\n",
    "\n",
    "    for i in range(1, len(A)) :\n",
    "        x = A[i]\n",
    "        j = i\n",
    "        while j > 0 and A[j - 1] > x :\n",
    "            A[j] = A[j - 1]\n",
    "            j = j - 1\n",
    "        A[j] = x\n",
    "\n",
    "    return A  \n",
    "\n"
   ]
  },
  {
   "cell_type": "code",
   "execution_count": 9,
   "metadata": {},
   "outputs": [
    {
     "data": {
      "text/plain": [
       "[0, 1, 2, 3, 4, 5, 6, 7, 8, 9, 10, 11, 12, 13, 14, 15, 16, 17, 18, 19, 20]"
      ]
     },
     "execution_count": 9,
     "metadata": {},
     "output_type": "execute_result"
    }
   ],
   "source": [
    "insertion(generate_random_array())"
   ]
  },
  {
   "cell_type": "code",
   "execution_count": 10,
   "metadata": {},
   "outputs": [
    {
     "name": "stdout",
     "output_type": "stream",
     "text": [
      " "
     ]
    },
    {
     "data": {
      "text/plain": [
       "         73 function calls in 0.000 seconds\n",
       "\n",
       "   Ordered by: internal time\n",
       "\n",
       "   ncalls  tottime  percall  cumtime  percall filename:lineno(function)\n",
       "        1    0.000    0.000    0.000    0.000 {built-in method builtins.exec}\n",
       "        1    0.000    0.000    0.000    0.000 2726897805.py:1(insertion)\n",
       "       20    0.000    0.000    0.000    0.000 random.py:235(_randbelow_with_getrandbits)\n",
       "        1    0.000    0.000    0.000    0.000 random.py:376(shuffle)\n",
       "        1    0.000    0.000    0.000    0.000 <string>:1(<module>)\n",
       "        1    0.000    0.000    0.000    0.000 2490127614.py:3(generate_random_array)\n",
       "       25    0.000    0.000    0.000    0.000 {method 'getrandbits' of '_random.Random' objects}\n",
       "       20    0.000    0.000    0.000    0.000 {method 'bit_length' of 'int' objects}\n",
       "        2    0.000    0.000    0.000    0.000 {built-in method builtins.len}\n",
       "        1    0.000    0.000    0.000    0.000 {method 'disable' of '_lsprof.Profiler' objects}"
      ]
     },
     "metadata": {},
     "output_type": "display_data"
    }
   ],
   "source": [
    "%prun insertion(generate_random_array())"
   ]
  },
  {
   "cell_type": "markdown",
   "metadata": {},
   "source": [
    "## 1.3 Selection"
   ]
  },
  {
   "attachments": {},
   "cell_type": "markdown",
   "metadata": {},
   "source": [
    "**Un pseudocode possible** *(source : Wikipedia, réécrit sous format python)*\n",
    "\n",
    "```\n",
    "procédure tri_selection(tableau t, entier n):\n",
    "  pour i de 0 à n - 2:\n",
    "      min = i       \n",
    "      pour j de i + 1 à n - 1:\n",
    "          si t[j] < t[min]:\n",
    "            min = j\n",
    "      si min ≠ i,\n",
    "          échanger(t, i, min)\n",
    "```"
   ]
  },
  {
   "cell_type": "code",
   "execution_count": 11,
   "metadata": {},
   "outputs": [],
   "source": [
    "def selection(A):\n",
    "    \"\"\"Trie le tableau en cherchant le plus petit élément à mettre dans la\n",
    "    première case, puis le second plus petit à mettre dans la seconde case,\n",
    "    etc\"\"\"\n",
    "\n",
    "    for i in range(0, len(A) - 1) :\n",
    "        min = i\n",
    "        for j in range(i + 1, len(A)) :\n",
    "            if A[j] < A[min] :\n",
    "                min = j\n",
    "        if min != i :\n",
    "                swap(A, i, min)\n",
    "    return A"
   ]
  },
  {
   "cell_type": "code",
   "execution_count": 12,
   "metadata": {},
   "outputs": [
    {
     "data": {
      "text/plain": [
       "[0, 1, 2, 3, 4, 5, 6, 7, 8, 9, 10, 11, 12, 13, 14, 15, 16, 17, 18, 19, 20]"
      ]
     },
     "execution_count": 12,
     "metadata": {},
     "output_type": "execute_result"
    }
   ],
   "source": [
    "selection(generate_random_array())"
   ]
  },
  {
   "cell_type": "code",
   "execution_count": 13,
   "metadata": {},
   "outputs": [
    {
     "name": "stdout",
     "output_type": "stream",
     "text": [
      " "
     ]
    },
    {
     "data": {
      "text/plain": [
       "         115 function calls in 0.000 seconds\n",
       "\n",
       "   Ordered by: internal time\n",
       "\n",
       "   ncalls  tottime  percall  cumtime  percall filename:lineno(function)\n",
       "        1    0.000    0.000    0.000    0.000 311629085.py:1(selection)\n",
       "        1    0.000    0.000    0.000    0.000 {built-in method builtins.exec}\n",
       "       20    0.000    0.000    0.000    0.000 random.py:235(_randbelow_with_getrandbits)\n",
       "        1    0.000    0.000    0.000    0.000 random.py:376(shuffle)\n",
       "        1    0.000    0.000    0.000    0.000 2490127614.py:3(generate_random_array)\n",
       "        1    0.000    0.000    0.000    0.000 <string>:1(<module>)\n",
       "       19    0.000    0.000    0.000    0.000 2334177488.py:2(swap)\n",
       "       28    0.000    0.000    0.000    0.000 {method 'getrandbits' of '_random.Random' objects}\n",
       "       20    0.000    0.000    0.000    0.000 {method 'bit_length' of 'int' objects}\n",
       "       22    0.000    0.000    0.000    0.000 {built-in method builtins.len}\n",
       "        1    0.000    0.000    0.000    0.000 {method 'disable' of '_lsprof.Profiler' objects}"
      ]
     },
     "metadata": {},
     "output_type": "display_data"
    }
   ],
   "source": [
    "%prun selection(generate_random_array())"
   ]
  },
  {
   "cell_type": "code",
   "execution_count": null,
   "metadata": {},
   "outputs": [],
   "source": []
  },
  {
   "cell_type": "code",
   "execution_count": null,
   "metadata": {},
   "outputs": [],
   "source": []
  },
  {
   "cell_type": "code",
   "execution_count": null,
   "metadata": {},
   "outputs": [],
   "source": []
  }
 ],
 "metadata": {
  "kernelspec": {
   "display_name": "Python 3 (ipykernel)",
   "language": "python",
   "name": "python3"
  },
  "language_info": {
   "codemirror_mode": {
    "name": "ipython",
    "version": 3
   },
   "file_extension": ".py",
   "mimetype": "text/x-python",
   "name": "python",
   "nbconvert_exporter": "python",
   "pygments_lexer": "ipython3",
   "version": "3.11.7"
  }
 },
 "nbformat": 4,
 "nbformat_minor": 4
}

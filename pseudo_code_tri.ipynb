{
 "cells": [
  {
   "cell_type": "code",
   "execution_count": null,
   "id": "8248da72-678e-4767-9d01-2ef547975198",
   "metadata": {},
   "outputs": [],
   "source": [
    "fonction tri_paquet (type, valeur)\n",
    "\n",
    "    A = 0\n",
    "    2 = 1\n",
    "    ...\n",
    "    V = 10\n",
    "    D = 11\n",
    "    R = 12\n",
    "\n",
    "Pour chaque carte dans paquet :\n",
    "    utiliser fonction tri_type (type, valeur) :\n",
    "                créer liste vide carreau appelé liste_carreau\n",
    "                      liste vide coeur ...\n",
    "                      liste vide trèfle\n",
    "                      liste vide pique\n",
    "                      liste vide joker\n",
    "                pour chaque carte dans paquet :\n",
    "                    si type est carreau :\n",
    "                        rajouter la carte dans liste_carreau\n",
    "                    si le type est coeur :\n",
    "                        rejouter la carte dans liste_coeur\n",
    "                    ...\n",
    "                la fonction retourne liste_carreau, liste_coeur...\n",
    "\n",
    "Pour liste_carreau, liste_coeur, liste_trèfle, liste_pique :\n",
    "    utiliser fonction tri_valeur (liste) :\n",
    "            créer une variante val_ref\n",
    "            affecter la première carte à val_ref\n",
    "            créer une nouvelle liste vide applé liste_triée\n",
    "            pour valeur dans liste : \n",
    "            tant que chaque valeur ne est pas forcément inférieur que la valeur du indice de après :    \n",
    "                pour chaque valeur dans liste_carreau/ coeur/ ... :\n",
    "                    si valeur égale à val_ref :\n",
    "                        rajouter la carte dans list_trié \n",
    "                    si valeur est supérieur à val_ref :\n",
    "                        ranger la carte après la val_ref\n",
    "                    si valeur est inférieur à val_ref :\n",
    "                        ranger la carte avant la val_ref \n",
    "                    affecter la valeur à val_ref\n",
    "            la fonction retourne liste_carreau/ coeur/ ..._triée \n",
    "fonction tri_paquet donne le résultat final : liste_carreau + liste_coeur + ... + liste_joker\n",
    "                "
   ]
  }
 ],
 "metadata": {
  "kernelspec": {
   "display_name": "Python 3 (ipykernel)",
   "language": "python",
   "name": "python3"
  },
  "language_info": {
   "codemirror_mode": {
    "name": "ipython",
    "version": 3
   },
   "file_extension": ".py",
   "mimetype": "text/x-python",
   "name": "python",
   "nbconvert_exporter": "python",
   "pygments_lexer": "ipython3",
   "version": "3.11.7"
  }
 },
 "nbformat": 4,
 "nbformat_minor": 5
}

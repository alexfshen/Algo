{
 "cells": [
  {
   "cell_type": "code",
   "execution_count": 2,
   "id": "0ca71c87-d058-4005-af41-43d6bec63e62",
   "metadata": {},
   "outputs": [
    {
     "name": "stdout",
     "output_type": "stream",
     "text": [
      "[[('carreau', 'as'), ('carreau', '2'), ('carreau', '3'), ('carreau', '4'), ('carreau', '5'), ('carreau', '6'), ('carreau', '7'), ('carreau', '8'), ('carreau', '9'), ('carreau', '10'), ('carreau', 'valet'), ('carreau', 'dame'), ('carreau', 'roi')], [('coeur', 'as'), ('coeur', '2'), ('coeur', '3'), ('coeur', '4'), ('coeur', '5'), ('coeur', '6'), ('coeur', '7'), ('coeur', '8'), ('coeur', '9'), ('coeur', '10'), ('coeur', 'valet'), ('coeur', 'dame'), ('coeur', 'roi')], [('trèfle', 'as'), ('trèfle', '2'), ('trèfle', '3'), ('trèfle', '4'), ('trèfle', '5'), ('trèfle', '6'), ('trèfle', '7'), ('trèfle', '8'), ('trèfle', '9'), ('trèfle', '10'), ('trèfle', 'valet'), ('trèfle', 'dame'), ('trèfle', 'roi')], [('pique', 'as'), ('pique', '2'), ('pique', '3'), ('pique', '4'), ('pique', '5'), ('pique', '6'), ('pique', '7'), ('pique', '8'), ('pique', '9'), ('pique', '10'), ('pique', 'valet'), ('pique', 'dame'), ('pique', 'roi')], [('joker', 'noir'), ('joker', 'rouge')]]\n"
     ]
    }
   ],
   "source": [
    "import random\n",
    "\n",
    "suits = ['carreau', 'coeur', 'trèfle', 'pique']\n",
    "values = ['2', '3', '4', '5', '6', '7', '8', '9', '10', 'valet', 'dame', 'roi', 'as']\n",
    "\n",
    "paquet = [(suit, value) for suit in suits for value in values]\n",
    "paquet.append(('joker', 'noir'))\n",
    "paquet.append(('joker', 'rouge'))\n",
    "\n",
    "random.shuffle(paquet)\n",
    "\n",
    "def tri_type(paquet):\n",
    "    liste_carreau = []\n",
    "    liste_coeur = []\n",
    "    liste_trefle = []\n",
    "    liste_pique = []\n",
    "    liste_joker = []\n",
    "\n",
    "    for carte in paquet:\n",
    "        type = carte[0]\n",
    "        if type == 'carreau':\n",
    "            liste_carreau.append(carte)\n",
    "        elif type == 'coeur':\n",
    "            liste_coeur.append(carte)\n",
    "        elif type == 'trèfle':\n",
    "            liste_trefle.append(carte)\n",
    "        elif type == 'pique':\n",
    "            liste_pique.append(carte)\n",
    "        else:\n",
    "            liste_joker.append(carte)\n",
    "\n",
    "    paquet_triee = [liste_carreau, liste_coeur, liste_trefle, liste_pique, liste_joker]\n",
    "    return paquet_triee\n",
    "\n",
    "def tri_valeur(liste):\n",
    "    valeurs = {\n",
    "        'as': 0, '2': 1, '3': 2, '4': 3, '5': 4, '6': 5, '7': 6, '8': 7,\n",
    "        '9': 8, '10': 9, 'valet': 10, 'dame': 11, 'roi': 12, 'noir': 13, 'rouge': 14\n",
    "    }\n",
    "\n",
    "    # Insertion sort implementation without using built-in sort function\n",
    "    for i in range(1, len(liste)):\n",
    "        key = liste[i]\n",
    "        j = i - 1\n",
    "        while j >= 0 and valeurs[liste[j][1]] > valeurs[key[1]]:\n",
    "            liste[j + 1] = liste[j]\n",
    "            j -= 1\n",
    "        liste[j + 1] = key\n",
    "\n",
    "def tri_paquet(paquet):\n",
    "    paquet_triee = tri_type(paquet)\n",
    "    for sublist in paquet_triee:\n",
    "        tri_valeur(sublist)\n",
    "    return paquet_triee\n",
    "\n",
    "sorted_paquet = tri_paquet(paquet)\n",
    "print(sorted_paquet)\n"
   ]
  },
  {
   "cell_type": "code",
   "execution_count": null,
   "id": "751d92f3-27ff-4f93-ac46-180979449ba7",
   "metadata": {},
   "outputs": [],
   "source": []
  }
 ],
 "metadata": {
  "kernelspec": {
   "display_name": "Python 3 (ipykernel)",
   "language": "python",
   "name": "python3"
  },
  "language_info": {
   "codemirror_mode": {
    "name": "ipython",
    "version": 3
   },
   "file_extension": ".py",
   "mimetype": "text/x-python",
   "name": "python",
   "nbconvert_exporter": "python",
   "pygments_lexer": "ipython3",
   "version": "3.11.7"
  }
 },
 "nbformat": 4,
 "nbformat_minor": 5
}

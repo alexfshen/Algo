{
 "cells": [
  {
   "cell_type": "code",
   "execution_count": 5,
   "id": "08a162cc-41b3-4d39-b217-0537145d9eb5",
   "metadata": {
    "collapsed": true,
    "jupyter": {
     "outputs_hidden": true
    }
   },
   "outputs": [
    {
     "data": {
      "text/plain": [
       "[4,\n",
       " 24,\n",
       " 27,\n",
       " 9,\n",
       " 3,\n",
       " 29,\n",
       " 25,\n",
       " 2,\n",
       " 26,\n",
       " 23,\n",
       " 28,\n",
       " 20,\n",
       " 5,\n",
       " 30,\n",
       " 21,\n",
       " 17,\n",
       " 13,\n",
       " 19,\n",
       " 14,\n",
       " 1,\n",
       " 7,\n",
       " 11,\n",
       " 0,\n",
       " 10,\n",
       " 18,\n",
       " 8,\n",
       " 6,\n",
       " 16,\n",
       " 15,\n",
       " 22,\n",
       " 12]"
      ]
     },
     "execution_count": 5,
     "metadata": {},
     "output_type": "execute_result"
    }
   ],
   "source": [
    "#generate array\n",
    "\n",
    "import random\n",
    "\n",
    "def generate_array() :\n",
    "\n",
    "    A = list(range(0, 31))\n",
    "    random.shuffle(A)\n",
    "\n",
    "    return A\n",
    "\n",
    "generate_array()"
   ]
  },
  {
   "cell_type": "code",
   "execution_count": 6,
   "id": "b11d29e7-117d-4072-9852-46a83972d6e3",
   "metadata": {},
   "outputs": [],
   "source": [
    "#swap\n",
    "\n",
    "def swap(A, i, j) :\n",
    "\n",
    "    A[i], A[j] = A[j], A[i]\n",
    "\n",
    "    return A"
   ]
  },
  {
   "cell_type": "code",
   "execution_count": 8,
   "id": "0b4ba5ce-22f6-4328-9ee3-89b522bf823c",
   "metadata": {
    "collapsed": true,
    "jupyter": {
     "outputs_hidden": true
    },
    "scrolled": true
   },
   "outputs": [
    {
     "data": {
      "text/plain": [
       "[0,\n",
       " 1,\n",
       " 2,\n",
       " 3,\n",
       " 4,\n",
       " 5,\n",
       " 6,\n",
       " 7,\n",
       " 8,\n",
       " 9,\n",
       " 10,\n",
       " 11,\n",
       " 12,\n",
       " 13,\n",
       " 14,\n",
       " 15,\n",
       " 16,\n",
       " 17,\n",
       " 18,\n",
       " 19,\n",
       " 20,\n",
       " 21,\n",
       " 22,\n",
       " 23,\n",
       " 24,\n",
       " 25,\n",
       " 26,\n",
       " 27,\n",
       " 28,\n",
       " 29,\n",
       " 30]"
      ]
     },
     "execution_count": 8,
     "metadata": {},
     "output_type": "execute_result"
    }
   ],
   "source": [
    "#bubble sort\n",
    "\n",
    "def bubble_sort(A) :\n",
    "\n",
    "    for i in range(len(A), 0, -1) :\n",
    "        for j in range(1, i) :\n",
    "            if A[j] < A[j - 1] :\n",
    "                swap(A, j, j - 1)\n",
    "    return A\n",
    "\n",
    "bubble_sort(generate_array())"
   ]
  },
  {
   "cell_type": "code",
   "execution_count": null,
   "id": "c640e8cf-d1e2-45ed-a0f7-c741437aa216",
   "metadata": {},
   "outputs": [],
   "source": [
    "#insertion sort\n",
    "\n",
    "def insertion_sort(A) :\n",
    "\n",
    "    for i in range(1, len(A)) :\n",
    "                                     "
   ]
  }
 ],
 "metadata": {
  "kernelspec": {
   "display_name": "Python 3 (ipykernel)",
   "language": "python",
   "name": "python3"
  },
  "language_info": {
   "codemirror_mode": {
    "name": "ipython",
    "version": 3
   },
   "file_extension": ".py",
   "mimetype": "text/x-python",
   "name": "python",
   "nbconvert_exporter": "python",
   "pygments_lexer": "ipython3",
   "version": "3.11.7"
  }
 },
 "nbformat": 4,
 "nbformat_minor": 5
}
